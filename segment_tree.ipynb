{
 "cells": [
  {
   "cell_type": "code",
   "execution_count": 99,
   "metadata": {},
   "outputs": [
    {
     "data": {
      "text/plain": [
       "3"
      ]
     },
     "execution_count": 99,
     "metadata": {},
     "output_type": "execute_result"
    }
   ],
   "source": [
    "\"\"\"XOR\"\"\"\n",
    "7^4"
   ]
  },
  {
   "cell_type": "code",
   "execution_count": 95,
   "metadata": {},
   "outputs": [
    {
     "name": "stdout",
     "output_type": "stream",
     "text": [
      "3\n"
     ]
    }
   ],
   "source": [
    "a = [1,2,2,3,1,3,3]\n",
    "v = 0\n",
    "for i in a:\n",
    "    v = i^v\n",
    "#     print v\n",
    "print v"
   ]
  },
  {
   "cell_type": "code",
   "execution_count": null,
   "metadata": {},
   "outputs": [],
   "source": [
    "class TrieNode():\n",
    "    def __init__(self):\n",
    "        self.children = [None]*26\n",
    "        self.isEndofWord = False"
   ]
  },
  {
   "cell_type": "code",
   "execution_count": null,
   "metadata": {},
   "outputs": [],
   "source": [
    "class Trie:\n",
    "    def __init__(self):\n",
    "        self.root = self.get_node()\n",
    "    \n",
    "    def get_node(self):\n",
    "        node = TrieNode()\n",
    "        return node\n",
    "    \n",
    "    def _char_to_index(self, _key):\n",
    "        return ord(_key) - ord('a')\n",
    "    \n",
    "    def insert(self, text):\n",
    "        _node = self.root\n",
    "        for key in text:\n",
    "            index = self._char_to_index(key)\n",
    "            if not _node.children[index]:\n",
    "                _node.children[index] = self.get_node()\n",
    "            _node = _node.children[index]\n",
    "        _node.isEndofWord = True\n",
    "    \n",
    "    def look_up(self, text):\n",
    "        _node = self.root\n",
    "        for key in text:\n",
    "            index = self._char_to_index(key)\n",
    "            if not _node.children[index]:\n",
    "                return False\n",
    "            _node = _node.children[index]\n",
    "        if _node.isEndofWord == True:\n",
    "            return True\n",
    "        return False\n",
    "        "
   ]
  },
  {
   "cell_type": "code",
   "execution_count": null,
   "metadata": {},
   "outputs": [],
   "source": [
    "t = Trie()"
   ]
  },
  {
   "cell_type": "code",
   "execution_count": null,
   "metadata": {},
   "outputs": [],
   "source": [
    "import random\n",
    "lens = 10\n",
    "alphabet = 'QWERTYUIOPLKJHGFDSAZXCVBNM'\n",
    "alphabet = alphabet.lower()\n",
    "count = 0\n",
    "word_list = []\n",
    "for i in range(1, 1000000):\n",
    "    count+=1\n",
    "    word = \"\".join(random.choice(alphabet) for _ in range(lens))\n",
    "    if count% 10000 == 0:\n",
    "        print word, count\n",
    "    word_list.append(word)\n",
    "    t.insert(word)\n",
    "# for i in range(1,100000):\n",
    "#     t.insert()\n",
    "word"
   ]
  },
  {
   "cell_type": "code",
   "execution_count": null,
   "metadata": {},
   "outputs": [],
   "source": [
    "word"
   ]
  },
  {
   "cell_type": "code",
   "execution_count": null,
   "metadata": {},
   "outputs": [],
   "source": [
    "t.look_up('ibtbshhdzr')"
   ]
  },
  {
   "cell_type": "code",
   "execution_count": null,
   "metadata": {},
   "outputs": [],
   "source": [
    "'ibtbshhdzr' in word_list"
   ]
  },
  {
   "cell_type": "code",
   "execution_count": null,
   "metadata": {},
   "outputs": [],
   "source": [
    "def get_max(arr):\n",
    "    arr.sort()\n",
    "    return arr"
   ]
  },
  {
   "cell_type": "code",
   "execution_count": null,
   "metadata": {},
   "outputs": [],
   "source": [
    "\"\"\"\n",
    "Function to get path\n",
    "\"\"\"\n",
    "import numpy\n",
    "def get_path(arr):\n",
    "    jump = 1\n",
    "    jumps = arr[0]\n",
    "    if jumps == 0:\n",
    "        return 0\n",
    "    if jumps > len(arr)-1:\n",
    "        return 1\n",
    "    else:\n",
    "#         import ipdb; ipdb.set_trace()\n",
    "        temp_arr = arr[1:jumps+1]\n",
    "        _max = numpy.argsort(arr[1:jumps+1])\n",
    "        _max = list(_max)\n",
    "        while len(_max) > 0:\n",
    "            max_ = _max.pop()\n",
    "            next_jump = temp_arr[max_]\n",
    "            if next_jump < jumps:\n",
    "                jump += get_path(arr[jumps:])\n",
    "            else:\n",
    "                jump += get_path(arr[1+max_:])\n",
    "            return jump\n",
    "#         if status == True:\n",
    "#             print max_\n",
    "#             return get_path(arr[max_:])"
   ]
  },
  {
   "cell_type": "code",
   "execution_count": null,
   "metadata": {},
   "outputs": [],
   "source": [
    "get_path([20,3,10,1,4,3,1,1,1,1])"
   ]
  },
  {
   "cell_type": "code",
   "execution_count": null,
   "metadata": {},
   "outputs": [],
   "source": [
    "get_jumps([1,2,5,5,3,1,1,1,1])"
   ]
  },
  {
   "cell_type": "code",
   "execution_count": null,
   "metadata": {},
   "outputs": [],
   "source": [
    "def get_jumps(data):\n",
    "    print \"=\"*80\n",
    "    print (\"data:\",data)\n",
    "    jumps = 1\n",
    "\n",
    "    if not data[0]:\n",
    "        return 0\n",
    "\n",
    "    if len(data) == 1 or data[0] > len(data):\n",
    "        return 1\n",
    "\n",
    "    num_of_jumps = data[0]\n",
    "    j = 1\n",
    "    max_idx = 0\n",
    "    max_jump = 0\n",
    "    print (\"num_of_jumps:\",num_of_jumps)\n",
    "    while j <= num_of_jumps and j < len(data):\n",
    "        print (\"jump:\",j)\n",
    "        if data[j] >= max_jump:\n",
    "            max_jump = data[j]\n",
    "            max_idx = j            \n",
    "        j+=1    \n",
    "    jumps += get_jumps(data[max_idx:])\n",
    "    return jumps"
   ]
  },
  {
   "cell_type": "code",
   "execution_count": null,
   "metadata": {},
   "outputs": [],
   "source": []
  },
  {
   "cell_type": "code",
   "execution_count": 164,
   "metadata": {},
   "outputs": [],
   "source": [
    "\"\"\"BST\"\"\"\n",
    "class Node:\n",
    "    def __init__(self, data):\n",
    "        self.left = None\n",
    "        self.right = None\n",
    "        self.data = data\n",
    "        self.height = 1\n",
    "        self.balance = 0 "
   ]
  },
  {
   "cell_type": "code",
   "execution_count": 166,
   "metadata": {},
   "outputs": [],
   "source": [
    "class BST:\n",
    "    def __init__(self):\n",
    "        self.root = None\n",
    "        \n",
    "    def _insert(self, root, data):\n",
    "        if not root:\n",
    "            return Node(data)\n",
    "        else:\n",
    "            if data < root.data:\n",
    "                root.left = self._insert(root.left, data)\n",
    "            else:\n",
    "                root.right = self._insert(root.right, data)\n",
    "            root.height = 1+ max(self.get_height(root.right), self.get_height(root.left))\n",
    "        balance = self.get_balance(root)\n",
    "        if balance > 1 and data < root.left.data:\n",
    "            self.rightRotate(root)\n",
    "        \n",
    "\n",
    "        return root\n",
    "    \n",
    "    def rightRotate(self, z):\n",
    "        y = z.left\n",
    "        temp = y.right\n",
    "        \n",
    "        \n",
    "        \n",
    "        \n",
    "    def insert(self, data):\n",
    "#         import ipdb; ipdb.set_trace()\n",
    "        if not self.root:\n",
    "            self.root = Node(data)\n",
    "        else:\n",
    "            if data < self.root.data:\n",
    "                self.root.left = self._insert(self.root.left, data)\n",
    "            else:\n",
    "                self.root.right = self._insert(self.root.right, data)\n",
    "            self.root.height = 1+ max(self.get_height(self.root.right), self.get_height(self.root.left))\n",
    "            balance = self.get_balance(self.root)\n",
    "            \n",
    "    def get_height(self, root):\n",
    "        if root:\n",
    "            return root.height\n",
    "        return 0\n",
    "    \n",
    "    def get_balance(self, root):\n",
    "        if root:\n",
    "#             if root.data == 10:\n",
    "#                 import ipdb; ipdb.set_trace()\n",
    "            return self.get_height(root.left)- self.get_height(root.right)\n",
    "        else:\n",
    "            return 0\n",
    "        \n",
    "    def inorder(self):\n",
    "        self._inorder(self.root)\n",
    "        \n",
    "    def _inorder(self, root):\n",
    "        if not root:\n",
    "            return\n",
    "        try:\n",
    "            self._inorder(root.left)\n",
    "            print root.data\n",
    "            self._inorder(root.right)\n",
    "        except:\n",
    "            pass\n",
    "    \n",
    "    def post_order(self):\n",
    "        self._post_order(self.root)\n",
    "    \n",
    "    def _post_order(self, root):\n",
    "        if not root:\n",
    "            return\n",
    "        try:\n",
    "            if root.left:\n",
    "                self._post_order(root.left)\n",
    "            if root.right:\n",
    "                self._post_order(root.right)\n",
    "            print (str(root.data)+\"==>\"+str(root.balance))\n",
    "        except Exception as e:\n",
    "            print e"
   ]
  },
  {
   "cell_type": "code",
   "execution_count": 167,
   "metadata": {},
   "outputs": [],
   "source": [
    "bst = BST()\n",
    "bst.insert(5)\n",
    "bst.insert(6)\n",
    "bst.insert(1)\n",
    "bst.insert(2)\n",
    "bst.insert(10)\n",
    "bst.insert(16)"
   ]
  },
  {
   "cell_type": "code",
   "execution_count": 168,
   "metadata": {},
   "outputs": [
    {
     "name": "stdout",
     "output_type": "stream",
     "text": [
      "2==>0\n",
      "1==>-1\n",
      "16==>0\n",
      "10==>-1\n",
      "6==>-2\n",
      "5==>-1\n"
     ]
    }
   ],
   "source": [
    "bst.post_order()"
   ]
  }
 ],
 "metadata": {
  "kernelspec": {
   "display_name": "Python 2",
   "language": "python",
   "name": "python2"
  },
  "language_info": {
   "codemirror_mode": {
    "name": "ipython",
    "version": 2
   },
   "file_extension": ".py",
   "mimetype": "text/x-python",
   "name": "python",
   "nbconvert_exporter": "python",
   "pygments_lexer": "ipython2",
   "version": "2.7.15rc1"
  }
 },
 "nbformat": 4,
 "nbformat_minor": 2
}
