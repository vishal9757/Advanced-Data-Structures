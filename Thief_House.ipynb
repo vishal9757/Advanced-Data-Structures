{
 "cells": [
  {
   "cell_type": "code",
   "execution_count": 5,
   "metadata": {},
   "outputs": [],
   "source": [
    "\"\"\"\n",
    "Find maximum possible stolen value from houses\n",
    "There are n houses build in a line, each of which\n",
    "contains some value in it. A thief is going to steal \n",
    "the maximal value of these houses, but he can’t steal\n",
    "in two adjacent houses because owner of the stolen \n",
    "houses will tell his two neighbour left and right side.\n",
    "What is the maximum stolen value.\n",
    "\"\"\"\n",
    "def get_max(house_val):\n",
    "    house_count = len(house_val)\n",
    "    if house_count == 0:\n",
    "        return 0\n",
    "    if house_count == 1:\n",
    "        return house_val[0]\n",
    "    if house_count == 2:\n",
    "        return max(house_val[0], house_val[1])\n",
    "    second_last = house_val[0]\n",
    "    last = max(house_val[1], house_val[0])\n",
    "    temp = 0\n",
    "    for i in xrange(2, house_count):\n",
    "        temp = max(house_val[i]+second_last, last)\n",
    "        second_last = last\n",
    "        last = temp\n",
    "    return max(last, second_last)"
   ]
  },
  {
   "cell_type": "code",
   "execution_count": 7,
   "metadata": {},
   "outputs": [
    {
     "data": {
      "text/plain": [
       "19"
      ]
     },
     "execution_count": 7,
     "metadata": {},
     "output_type": "execute_result"
    }
   ],
   "source": [
    "\"\"\"\n",
    "Function call for max stolen value\n",
    "\"\"\"\n",
    "get_max([6,7,1,3,8,2,4])"
   ]
  },
  {
   "cell_type": "code",
   "execution_count": 18,
   "metadata": {},
   "outputs": [],
   "source": [
    "def maxRepeating(arr, n,  k): \n",
    "  \n",
    "    # Iterate though input array, for every element \n",
    "    # arr[i], increment arr[arr[i]%k] by k \n",
    "    for i in range(0,  n): \n",
    "        arr[arr[i]%k] += k \n",
    "  \n",
    "    # Find index of the maximum repeating element \n",
    "    max = arr[0] \n",
    "    result = 0\n",
    "    print arr\n",
    "    for i in range(1, n): \n",
    "      \n",
    "        if arr[i] > max: \n",
    "            max = arr[i] \n",
    "            result = i \n",
    "  \n",
    "    # Uncomment this code to get the original array back \n",
    "    #for i in range(0, n): \n",
    "    #    arr[i] = arr[i]%k \n",
    "  \n",
    "    # Return index of the maximum element \n",
    "    return result \n"
   ]
  },
  {
   "cell_type": "code",
   "execution_count": 22,
   "metadata": {},
   "outputs": [
    {
     "name": "stdout",
     "output_type": "stream",
     "text": [
      "[1, 15, 23, 2, 2, 20, 34]\n"
     ]
    },
    {
     "data": {
      "text/plain": [
       "6"
      ]
     },
     "execution_count": 22,
     "metadata": {},
     "output_type": "execute_result"
    }
   ],
   "source": [
    "maxRepeating([1,1,2,2,2,20,20], 7, 7)"
   ]
  },
  {
   "cell_type": "code",
   "execution_count": null,
   "metadata": {},
   "outputs": [],
   "source": []
  }
 ],
 "metadata": {
  "kernelspec": {
   "display_name": "Python 2",
   "language": "python",
   "name": "python2"
  },
  "language_info": {
   "codemirror_mode": {
    "name": "ipython",
    "version": 2
   },
   "file_extension": ".py",
   "mimetype": "text/x-python",
   "name": "python",
   "nbconvert_exporter": "python",
   "pygments_lexer": "ipython2",
   "version": "2.7.15rc1"
  }
 },
 "nbformat": 4,
 "nbformat_minor": 2
}
